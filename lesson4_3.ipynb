{
 "cells": [
  {
   "cell_type": "code",
   "execution_count": 14,
   "metadata": {},
   "outputs": [
    {
     "name": "stdout",
     "output_type": "stream",
     "text": [
      "[{'man': '87', 'woman': '203', '\\ufeffyear': '108'},\n",
      " {'man': '63', 'woman': '194', '\\ufeffyear': '109'},\n",
      " {'man': '56', 'woman': '169', '\\ufeffyear': '110'},\n",
      " {'man': '77', 'woman': '218', '\\ufeffyear': '111'},\n",
      " {'man': '118', 'woman': '269', '\\ufeffyear': '112'},\n",
      " {'man': '12', 'woman': '23', '\\ufeffyear': '113'}]\n"
     ]
    }
   ],
   "source": [
    "import csv\n",
    "from pprint import pprint\n",
    "with open (file='same-sex-married.csv',encoding='utf-8') as file:\n",
    "    reader = csv.DictReader(file)\n",
    "    home = list(reader)\n",
    "\n",
    "pprint(home)"
   ]
  }
 ],
 "metadata": {
  "kernelspec": {
   "display_name": "base",
   "language": "python",
   "name": "python3"
  },
  "language_info": {
   "codemirror_mode": {
    "name": "ipython",
    "version": 3
   },
   "file_extension": ".py",
   "mimetype": "text/x-python",
   "name": "python",
   "nbconvert_exporter": "python",
   "pygments_lexer": "ipython3",
   "version": "3.12.2"
  }
 },
 "nbformat": 4,
 "nbformat_minor": 2
}
