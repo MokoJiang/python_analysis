{
 "cells": [
  {
   "cell_type": "code",
   "execution_count": 2,
   "metadata": {},
   "outputs": [
    {
     "name": "stdout",
     "output_type": "stream",
     "text": [
      "hello world\n"
     ]
    }
   ],
   "source": [
    "print('hello world')"
   ]
  },
  {
   "cell_type": "code",
   "execution_count": 3,
   "metadata": {},
   "outputs": [
    {
     "name": "stdout",
     "output_type": "stream",
     "text": [
      "10\n",
      "20\n"
     ]
    }
   ],
   "source": [
    "print(2*(1+2)**2-2**2*2)\n",
    "print((2+3)*4)"
   ]
  },
  {
   "cell_type": "code",
   "execution_count": 4,
   "metadata": {},
   "outputs": [
    {
     "name": "stdout",
     "output_type": "stream",
     "text": [
      "4-7-8.0-hello.\n"
     ]
    }
   ],
   "source": [
    "radius = float(input('請輸入半徑:'))\n",
    "print(4,\n",
    "      7,\n",
    "      8.0,\n",
    "      'hello',sep='-',end='.\\n')"
   ]
  },
  {
   "cell_type": "code",
   "execution_count": 5,
   "metadata": {},
   "outputs": [
    {
     "name": "stdout",
     "output_type": "stream",
     "text": [
      "4-7-8.0-hello.\n"
     ]
    }
   ],
   "source": [
    "print(4,\n",
    "      7,\n",
    "      8.0,\n",
    "      'hello',end='.\\n',sep='-')"
   ]
  },
  {
   "cell_type": "code",
   "execution_count": 6,
   "metadata": {},
   "outputs": [
    {
     "name": "stdout",
     "output_type": "stream",
     "text": [
      "3+5+8\n",
      "4+5+9\n",
      "\n",
      "9+9=18\n"
     ]
    }
   ],
   "source": [
    "print(\"3+5+8\")\n",
    "print(\"4+5+9\")\n",
    "print()\n",
    "print(\"9+9=18\")"
   ]
  },
  {
   "cell_type": "code",
   "execution_count": 7,
   "metadata": {},
   "outputs": [
    {
     "name": "stdout",
     "output_type": "stream",
     "text": [
      "半徑: 3.0\n",
      "直徑: 6.0\n",
      "圓周長: 18.849555951\n",
      "面積: 28.2743339265\n"
     ]
    }
   ],
   "source": [
    "radius = float(input(\"請輸入半徑:\"))\n",
    "diameter = 2 * radius\n",
    "circumference = 2 * 3.1415926585 * radius\n",
    "area = 3.1415926585 * radius ** 2\n",
    "\n",
    "print(\"半徑:\",radius)\n",
    "print(\"直徑:\",diameter)\n",
    "print(\"圓周長:\",circumference)\n",
    "print(\"面積:\",area)"
   ]
  },
  {
   "cell_type": "code",
   "execution_count": 8,
   "metadata": {},
   "outputs": [
    {
     "name": "stdout",
     "output_type": "stream",
     "text": [
      "對邊: 3.0\n",
      "鄰邊 4.0\n",
      "斜邊是 5.0\n"
     ]
    }
   ],
   "source": [
    "import math\n",
    "side = float(input(\"請輸對邊:\"))\n",
    "another_side = float(input(\"請輸鄰邊:\"))\n",
    "each_side = math.sqrt(side ** 2 + another_side ** 2)\n",
    "print(\"對邊:\",side)\n",
    "print(\"鄰邊\",another_side)\n",
    "print(\"斜邊是\",each_side)"
   ]
  },
  {
   "cell_type": "code",
   "execution_count": 9,
   "metadata": {},
   "outputs": [
    {
     "name": "stdout",
     "output_type": "stream",
     "text": [
      "數據集 [2 4 4 4 5 5 7 9]\n",
      "標準差 2.0\n",
      "樣本標準差 2.138089935299395\n"
     ]
    }
   ],
   "source": [
    "import numpy as np\n",
    "\n",
    "data = np.array([2, 4, 4, 4, 5, 5, 7, 9])\n",
    "\n",
    "std_dev = np.std(data)\n",
    "\n",
    "print(\"數據集\",data)\n",
    "print(\"標準差\",std_dev)\n",
    "\n",
    "sample_std = np.std(data, ddof=1)\n",
    "print(\"樣本標準差\",sample_std)"
   ]
  },
  {
   "cell_type": "code",
   "execution_count": 23,
   "metadata": {},
   "outputs": [
    {
     "name": "stdout",
     "output_type": "stream",
     "text": [
      "<class 'list'>\n"
     ]
    },
    {
     "data": {
      "text/plain": [
       "[2, 8, 9]"
      ]
     },
     "execution_count": 23,
     "metadata": {},
     "output_type": "execute_result"
    }
   ],
   "source": [
    "#list_打包＿可以改變\n",
    "lucky_number_1 = [2,8,9]\n",
    "print(type(lucky_number_1))\n",
    "lucky_number_1"
   ]
  },
  {
   "cell_type": "code",
   "execution_count": 14,
   "metadata": {},
   "outputs": [
    {
     "name": "stdout",
     "output_type": "stream",
     "text": [
      "<class 'tuple'>\n"
     ]
    },
    {
     "data": {
      "text/plain": [
       "(2, 8, 9)"
      ]
     },
     "execution_count": 14,
     "metadata": {},
     "output_type": "execute_result"
    }
   ],
   "source": [
    "#tuple＿打包＿不可以改變\n",
    "lucky_number_2 = (2,8,9)\n",
    "print(type(lucky_number_2))\n",
    "lucky_number_2"
   ]
  },
  {
   "cell_type": "code",
   "execution_count": 16,
   "metadata": {},
   "outputs": [
    {
     "data": {
      "text/plain": [
       "19"
      ]
     },
     "execution_count": 16,
     "metadata": {},
     "output_type": "execute_result"
    }
   ],
   "source": [
    "sum(lucky_number_1)"
   ]
  },
  {
   "cell_type": "code",
   "execution_count": 24,
   "metadata": {},
   "outputs": [
    {
     "name": "stdout",
     "output_type": "stream",
     "text": [
      "2\n",
      "8\n",
      "9\n"
     ]
    }
   ],
   "source": [
    "print(lucky_number_1[0])\n",
    "print(lucky_number_1[1])\n",
    "print(lucky_number_1[2])"
   ]
  },
  {
   "cell_type": "code",
   "execution_count": 21,
   "metadata": {},
   "outputs": [
    {
     "name": "stdout",
     "output_type": "stream",
     "text": [
      "[10, 20, 30]\n",
      "10\n",
      "20\n",
      "30\n"
     ]
    }
   ],
   "source": [
    "#list裡面的內容可以修改\n",
    "lucky_number_1[0] = 10\n",
    "lucky_number_1[1] = 20\n",
    "lucky_number_1[2] = 30\n",
    "print(lucky_number_1)\n",
    "print(lucky_number_1[0])\n",
    "print(lucky_number_1[1])\n",
    "print(lucky_number_1[2])"
   ]
  },
  {
   "cell_type": "code",
   "execution_count": 25,
   "metadata": {},
   "outputs": [
    {
     "name": "stdout",
     "output_type": "stream",
     "text": [
      "[60, 90, 30, 23, 49]\n",
      "[12, 45, 23, 12, 65]\n"
     ]
    }
   ],
   "source": [
    "students = [\n",
    "    [60, 90, 30, 23, 49],\n",
    "    [12, 45, 23, 12, 65]\n",
    "]\n",
    "print(students[0])\n",
    "print(students[1])"
   ]
  }
 ],
 "metadata": {
  "kernelspec": {
   "display_name": "base",
   "language": "python",
   "name": "python3"
  },
  "language_info": {
   "codemirror_mode": {
    "name": "ipython",
    "version": 3
   },
   "file_extension": ".py",
   "mimetype": "text/x-python",
   "name": "python",
   "nbconvert_exporter": "python",
   "pygments_lexer": "ipython3",
   "version": "3.12.2"
  }
 },
 "nbformat": 4,
 "nbformat_minor": 2
}
